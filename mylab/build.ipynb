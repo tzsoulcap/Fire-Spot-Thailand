{
 "cells": [
  {
   "cell_type": "code",
   "execution_count": 1,
   "id": "066cad40-9ce2-492d-a44f-ae45ed015b8b",
   "metadata": {
    "tags": []
   },
   "outputs": [
    {
     "name": "stderr",
     "output_type": "stream",
     "text": [
      "/home/wannaphong/.local/lib/python3.10/site-packages/tqdm/auto.py:21: TqdmWarning: IProgress not found. Please update jupyter and ipywidgets. See https://ipywidgets.readthedocs.io/en/stable/user_install.html\n",
      "  from .autonotebook import tqdm as notebook_tqdm\n"
     ]
    }
   ],
   "source": [
    "import os\n",
    "import glob\n",
    "import pandas as pd\n",
    "import re\n",
    "from tqdm.auto import tqdm"
   ]
  },
  {
   "cell_type": "code",
   "execution_count": 2,
   "id": "1e86a1fd-5966-4e92-8650-a859e92eef4b",
   "metadata": {
    "tags": []
   },
   "outputs": [],
   "source": [
    "with open(\"thainer-v2.0.txt\", 'r', encoding='utf-8-sig') as f:\n",
    "    raw_list = [i.strip() for i in f.read().splitlines()]"
   ]
  },
  {
   "cell_type": "code",
   "execution_count": 3,
   "id": "19e9541a-cf49-4f07-a2f2-de16343eb840",
   "metadata": {
    "tags": []
   },
   "outputs": [
    {
     "data": {
      "text/plain": [
       "6564"
      ]
     },
     "execution_count": 3,
     "metadata": {},
     "output_type": "execute_result"
    }
   ],
   "source": [
    "len(raw_list)"
   ]
  },
  {
   "cell_type": "code",
   "execution_count": 4,
   "id": "77f428e7-10c0-4f57-8e4e-7e8909773062",
   "metadata": {
    "tags": []
   },
   "outputs": [
    {
     "data": {
      "text/plain": [
       "'[ORGANIZATION]TikTok[/ORGANIZATION] ปรับปรุงฟีเจอร์ Live - ต้องอายุอย่างน้อย [AGO]18 ปี[/AGO] ถึงสามารถไลฟ์ได้'"
      ]
     },
     "execution_count": 4,
     "metadata": {},
     "output_type": "execute_result"
    }
   ],
   "source": [
    "raw_list[-1]"
   ]
  },
  {
   "cell_type": "code",
   "execution_count": 5,
   "id": "3c4968c1-c992-47bb-92e9-a814f6b30e72",
   "metadata": {
    "tags": []
   },
   "outputs": [],
   "source": [
    "def replace_tag(txt):\n",
    "    return txt.replace(\"FACILITY\",\"LOCATION\").replace(\"[AGO]\",\"\").replace(\"[/AGO]\",\"\").replace(\"[T]\",\"\").replace(\"[/T]\",\"\")"
   ]
  },
  {
   "cell_type": "code",
   "execution_count": 6,
   "id": "cef1baac-da5a-476f-8249-f26228fc6514",
   "metadata": {
    "tags": []
   },
   "outputs": [],
   "source": [
    "from easynertag import Engine\n",
    "from pythainlp.tokenize import word_tokenize\n",
    "from pythainlp.tag import pos_tag as simple_pos\n",
    "from tqdm.auto import tqdm"
   ]
  },
  {
   "cell_type": "code",
   "execution_count": 7,
   "id": "52889979-62e3-493b-a393-a3d6a2442842",
   "metadata": {
    "tags": []
   },
   "outputs": [],
   "source": [
    "def cut_word(txt):\n",
    "    txt = replace_tag(txt)\n",
    "    return word_tokenize(txt, engine=\"newmm\")"
   ]
  },
  {
   "cell_type": "code",
   "execution_count": 8,
   "id": "920f7732-941a-402c-9378-867cabe10aca",
   "metadata": {
    "tags": []
   },
   "outputs": [],
   "source": [
    "builder=Engine(word_tokenize=cut_word,pos_tag=simple_pos)"
   ]
  },
  {
   "cell_type": "code",
   "execution_count": 9,
   "id": "9a0c5df2-245e-4682-adef-d51eb141b1fe",
   "metadata": {
    "tags": []
   },
   "outputs": [
    {
     "name": "stdout",
     "output_type": "stream",
     "text": [
      "TikTok\tB-ORGANIZATION\n",
      " \tO\n",
      "ปรับปรุง\tO\n",
      "ฟีเจอร์\tO\n",
      " \tO\n",
      "Live\tO\n",
      " \tO\n",
      "-\tO\n",
      " \tO\n",
      "ต้อง\tO\n",
      "อายุ\tO\n",
      "อย่าง\tO\n",
      "น้อย\tO\n",
      " \tO\n",
      "18\tB-AGO\n",
      " \tI-AGO\n",
      "ปี\tI-AGO\n",
      " \tO\n",
      "ถึง\tO\n",
      "สามารถ\tO\n",
      "ไลฟ์\tO\n",
      "ได้\tO\n",
      "\n"
     ]
    }
   ],
   "source": [
    "print(builder.text2conll2002(raw_list[-1]))"
   ]
  },
  {
   "cell_type": "code",
   "execution_count": 10,
   "id": "8dc2c464-96b3-4d1c-ba5a-efbeab201c62",
   "metadata": {
    "tags": []
   },
   "outputs": [
    {
     "name": "stderr",
     "output_type": "stream",
     "text": [
      "100%|█████████████████████████████████████| 6564/6564 [00:03<00:00, 1714.12it/s]\n"
     ]
    }
   ],
   "source": [
    "list_text2conll2002 = []\n",
    "for i in tqdm(raw_list):\n",
    "    list_text2conll2002.append(builder.text2conll2002(i))"
   ]
  },
  {
   "cell_type": "code",
   "execution_count": 11,
   "id": "84ba9d63-feb0-463d-b69b-9fbd4f74cf03",
   "metadata": {
    "tags": []
   },
   "outputs": [
    {
     "data": {
      "text/plain": [
       "['http\\tB-URL',\n",
       " '://\\tI-URL',\n",
       " 'www\\tI-URL',\n",
       " '.\\tI-URL',\n",
       " 'bangkokhealth\\tI-URL',\n",
       " '.\\tI-URL',\n",
       " 'com\\tI-URL',\n",
       " '/\\tI-URL',\n",
       " 'healthnews\\tI-URL',\n",
       " '_\\tI-URL',\n",
       " 'htdoc\\tI-URL',\n",
       " '/\\tI-URL',\n",
       " 'healthnews\\tI-URL',\n",
       " ' \\tI-URL',\n",
       " '_\\tI-URL',\n",
       " ' \\tI-URL',\n",
       " 'detail\\tI-URL',\n",
       " '.\\tI-URL',\n",
       " 'asp\\tI-URL',\n",
       " '?\\tI-URL',\n",
       " 'Number\\tI-URL',\n",
       " '=\\tI-URL',\n",
       " '10506\\tI-URL']"
      ]
     },
     "execution_count": 11,
     "metadata": {},
     "output_type": "execute_result"
    }
   ],
   "source": [
    "list_text2conll2002[0].splitlines()"
   ]
  },
  {
   "cell_type": "code",
   "execution_count": 12,
   "id": "155d1a13-7da9-4f34-b882-9080ed914c2d",
   "metadata": {
    "tags": []
   },
   "outputs": [],
   "source": [
    "from sklearn.model_selection import train_test_split"
   ]
  },
  {
   "cell_type": "code",
   "execution_count": 13,
   "id": "0fa36c0b-5c86-4642-9332-f57fb062dc17",
   "metadata": {
    "tags": []
   },
   "outputs": [],
   "source": [
    "# Thank https://datascience.stackexchange.com/a/15136\n",
    "train,test = train_test_split(list_text2conll2002, test_size=0.2, random_state=1)\n",
    "train, val = train_test_split(train, test_size=0.25, random_state=1) # 0.25 x 0.8 = 0.2"
   ]
  },
  {
   "cell_type": "code",
   "execution_count": 14,
   "id": "cdeed93b-7694-4a56-b28d-25832478fdeb",
   "metadata": {
    "tags": []
   },
   "outputs": [
    {
     "data": {
      "text/plain": [
       "(3938, 1313, 1313)"
      ]
     },
     "execution_count": 14,
     "metadata": {},
     "output_type": "execute_result"
    }
   ],
   "source": [
    "len(train),len(val),len(test)"
   ]
  },
  {
   "cell_type": "code",
   "execution_count": 15,
   "id": "9fd719f0-30c1-4e8e-ae82-eddf625f1ac7",
   "metadata": {
    "tags": []
   },
   "outputs": [],
   "source": [
    "tag2idx=[]\n",
    "def get_idx(t):\n",
    "    if t not in set(tag2idx):\n",
    "        tag2idx.append(t)\n",
    "    return tag2idx.index(t)"
   ]
  },
  {
   "cell_type": "code",
   "execution_count": 17,
   "id": "d4f74cee-522c-48ed-83e3-068a828d5a43",
   "metadata": {
    "tags": []
   },
   "outputs": [],
   "source": [
    "def make_hf(list_conll2002):\n",
    "    _words=[]\n",
    "    _tags=[]\n",
    "    for i in list_conll2002:\n",
    "        _w=[]\n",
    "        _t=[]\n",
    "        for j in i.splitlines():\n",
    "            _temp = j.split(\"\\t\")\n",
    "            if len(_temp)!=2:\n",
    "                continue\n",
    "            _w.append(_temp[0])\n",
    "            if _temp[1]==\"B-/ORGANIZATION\":\n",
    "                print(i)\n",
    "            _t.append(get_idx(_temp[1]))#.replace(\"B-\",\"\").replace(\"I-\",\"\"))\n",
    "        if len(_w)<1:\n",
    "            continue\n",
    "        _words.append(_w)\n",
    "        _tags.append(_t)\n",
    "    return _words,_tags"
   ]
  },
  {
   "cell_type": "code",
   "execution_count": 18,
   "id": "9af42d2b-d549-4c58-b720-7c2649369d76",
   "metadata": {
    "tags": []
   },
   "outputs": [],
   "source": [
    "train_hf = make_hf(train)\n",
    "val_hf = make_hf(val)\n",
    "test_hf = make_hf(test)"
   ]
  },
  {
   "cell_type": "code",
   "execution_count": 20,
   "id": "d10b7b0c-6d66-4980-8701-de967661dc0f",
   "metadata": {
    "tags": []
   },
   "outputs": [],
   "source": [
    "tag2idx[tag2idx.index(\"B-T\")]=\"B-TEMPERATURE\"\n",
    "tag2idx[tag2idx.index(\"I-T\")]=\"I-TEMPERATURE\""
   ]
  },
  {
   "cell_type": "code",
   "execution_count": 21,
   "id": "d046830e-68b3-43c4-9568-a1545e2e0d15",
   "metadata": {
    "tags": []
   },
   "outputs": [
    {
     "data": {
      "text/plain": [
       "['B-PERSON',\n",
       " 'I-PERSON',\n",
       " 'O',\n",
       " 'B-ORGANIZATION',\n",
       " 'B-LOCATION',\n",
       " 'I-ORGANIZATION',\n",
       " 'I-LOCATION',\n",
       " 'B-DATE',\n",
       " 'I-DATE',\n",
       " 'B-TIME',\n",
       " 'I-TIME',\n",
       " 'B-MONEY',\n",
       " 'I-MONEY',\n",
       " 'B-FACILITY',\n",
       " 'I-FACILITY',\n",
       " 'B-URL',\n",
       " 'I-URL',\n",
       " 'B-PERCENT',\n",
       " 'I-PERCENT',\n",
       " 'B-LEN',\n",
       " 'I-LEN',\n",
       " 'B-AGO',\n",
       " 'I-AGO',\n",
       " 'B-LAW',\n",
       " 'I-LAW',\n",
       " 'B-PHONE',\n",
       " 'I-PHONE',\n",
       " 'B-EMAIL',\n",
       " 'I-EMAIL',\n",
       " 'B-ZIP',\n",
       " 'B-TEMPERATURE',\n",
       " 'I-TEMPERATURE',\n",
       " 'B-DTAE',\n",
       " 'I-DTAE',\n",
       " 'B-DATA',\n",
       " 'I-DATA']"
      ]
     },
     "execution_count": 21,
     "metadata": {},
     "output_type": "execute_result"
    }
   ],
   "source": [
    "tag2idx"
   ]
  },
  {
   "cell_type": "code",
   "execution_count": 28,
   "id": "c20294d8-17ae-4d72-8cdf-6d96658103c7",
   "metadata": {
    "tags": []
   },
   "outputs": [],
   "source": [
    "d={\n",
    "    \"train\":{\n",
    "        \"words\":train_hf[0],\n",
    "        \"ner\":train_hf[1]\n",
    "    },\n",
    "    \"validation\":{\n",
    "        \"words\":val_hf[0],\n",
    "        \"ner\":val_hf[1]\n",
    "    },\n",
    "    \"test\":{\n",
    "        \"words\":test_hf[0],\n",
    "        \"ner\":test_hf[1]\n",
    "    }\n",
    "}\n"
   ]
  },
  {
   "cell_type": "code",
   "execution_count": 29,
   "id": "29c2383a-b7e2-401a-890c-270f07ea7432",
   "metadata": {
    "tags": []
   },
   "outputs": [],
   "source": [
    "from datasets import Dataset\n",
    "import datasets"
   ]
  },
  {
   "cell_type": "code",
   "execution_count": 30,
   "id": "69c22894-4b6a-4ca1-942e-82c4126a1046",
   "metadata": {
    "tags": []
   },
   "outputs": [],
   "source": [
    "features = datasets.Features(\n",
    "            {\n",
    "                \"words\": datasets.Sequence(datasets.Value(\"string\")),\n",
    "                \"ner\": datasets.Sequence(\n",
    "                    datasets.features.ClassLabel(\n",
    "                        names=tag2idx\n",
    "                    )\n",
    "                ),\n",
    "            }\n",
    "        )"
   ]
  },
  {
   "cell_type": "code",
   "execution_count": 31,
   "id": "294687cc-9832-49d0-a01f-bd05065f4b9b",
   "metadata": {
    "tags": []
   },
   "outputs": [],
   "source": [
    "dataset = datasets.DatasetDict()\n",
    "# using your `Dict` object\n",
    "for k,v in d.items():\n",
    "    dataset[k] = Dataset.from_dict(v,features=features)"
   ]
  },
  {
   "cell_type": "code",
   "execution_count": 32,
   "id": "0acdb7f2-477b-4e0e-930d-5741637a54ec",
   "metadata": {
    "tags": []
   },
   "outputs": [
    {
     "data": {
      "text/plain": [
       "DatasetDict({\n",
       "    train: Dataset({\n",
       "        features: ['words', 'ner'],\n",
       "        num_rows: 3938\n",
       "    })\n",
       "    validation: Dataset({\n",
       "        features: ['words', 'ner'],\n",
       "        num_rows: 1313\n",
       "    })\n",
       "    test: Dataset({\n",
       "        features: ['words', 'ner'],\n",
       "        num_rows: 1313\n",
       "    })\n",
       "})"
      ]
     },
     "execution_count": 32,
     "metadata": {},
     "output_type": "execute_result"
    }
   ],
   "source": [
    "dataset"
   ]
  },
  {
   "cell_type": "code",
   "execution_count": 33,
   "id": "6da1e437-aa33-4d87-b2f6-ab972ea5f5c0",
   "metadata": {
    "tags": []
   },
   "outputs": [
    {
     "name": "stderr",
     "output_type": "stream",
     "text": [
      "Pushing split train to the Hub.\n",
      "Pushing dataset shards to the dataset hub:   0%|          | 0/1 [00:00<?, ?it/s]\n",
      "Creating parquet from Arrow format: 100%|████████| 4/4 [00:00<00:00, 209.85ba/s]\u001b[A\n",
      "\n",
      "Upload 1 LFS files:   0%|                                 | 0/1 [00:00<?, ?it/s]\u001b[A\n",
      "Upload 1 LFS files: 100%|█████████████████████████| 1/1 [00:05<00:00,  5.49s/it]\u001b[A\n",
      "Pushing dataset shards to the dataset hub: 100%|██| 1/1 [00:09<00:00,  9.82s/it]\n",
      "Pushing split validation to the Hub.\n",
      "Pushing dataset shards to the dataset hub:   0%|          | 0/1 [00:00<?, ?it/s]\n",
      "Creating parquet from Arrow format: 100%|████████| 2/2 [00:00<00:00, 256.22ba/s]\u001b[A\n",
      "\n",
      "Upload 1 LFS files:   0%|                                 | 0/1 [00:00<?, ?it/s]\u001b[A\n",
      "Upload 1 LFS files: 100%|█████████████████████████| 1/1 [00:04<00:00,  4.28s/it]\u001b[A\n",
      "Pushing dataset shards to the dataset hub: 100%|██| 1/1 [00:08<00:00,  8.56s/it]\n",
      "Pushing split test to the Hub.\n",
      "Pushing dataset shards to the dataset hub:   0%|          | 0/1 [00:00<?, ?it/s]\n",
      "Creating parquet from Arrow format: 100%|████████| 2/2 [00:00<00:00, 222.97ba/s]\u001b[A\n",
      "\n",
      "Upload 1 LFS files:   0%|                                 | 0/1 [00:00<?, ?it/s]\u001b[A\n",
      "Upload 1 LFS files: 100%|█████████████████████████| 1/1 [00:04<00:00,  4.49s/it]\u001b[A\n",
      "Pushing dataset shards to the dataset hub: 100%|██| 1/1 [00:08<00:00,  8.77s/it]\n",
      "Downloading metadata: 100%|█████████████████████| 599/599 [00:00<00:00, 803kB/s]\n"
     ]
    }
   ],
   "source": [
    "dataset.push_to_hub(\"pythainlp/thainer-corpus-v2\")"
   ]
  },
  {
   "cell_type": "code",
   "execution_count": 34,
   "id": "9463876a-32e3-4028-ae7a-e58967a826ff",
   "metadata": {
    "tags": []
   },
   "outputs": [],
   "source": [
    "with open(\"train.conll\",\"w\",encoding=\"utf-8\") as f:\n",
    "    f.write('\\n'.join(train))\n",
    "with open(\"validation.conll\",\"w\",encoding=\"utf-8\") as f:\n",
    "    f.write('\\n'.join(val))\n",
    "with open(\"test.conll\",\"w\",encoding=\"utf-8\") as f:\n",
    "    f.write('\\n'.join(test))"
   ]
  },
  {
   "cell_type": "code",
   "execution_count": null,
   "id": "5b589a80-9d2c-448f-8aa6-47d149dd25c9",
   "metadata": {},
   "outputs": [],
   "source": []
  }
 ],
 "metadata": {
  "kernelspec": {
   "display_name": "Python 3 (ipykernel)",
   "language": "python",
   "name": "python3"
  },
  "language_info": {
   "codemirror_mode": {
    "name": "ipython",
    "version": 3
   },
   "file_extension": ".py",
   "mimetype": "text/x-python",
   "name": "python",
   "nbconvert_exporter": "python",
   "pygments_lexer": "ipython3",
   "version": "3.10.6"
  }
 },
 "nbformat": 4,
 "nbformat_minor": 5
}
